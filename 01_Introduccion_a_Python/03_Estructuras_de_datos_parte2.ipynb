{
  "nbformat": 4,
  "nbformat_minor": 0,
  "metadata": {
    "colab": {
      "provenance": [],
      "include_colab_link": true
    },
    "kernelspec": {
      "name": "python3",
      "display_name": "Python 3"
    },
    "language_info": {
      "name": "python"
    }
  },
  "cells": [
    {
      "cell_type": "markdown",
      "metadata": {
        "id": "view-in-github",
        "colab_type": "text"
      },
      "source": [
        "<a href=\"https://colab.research.google.com/github/JPalaciosCh/ciclo_1_Programacion_101/blob/main/01_Introduccion_a_Python/03_Estructuras_de_datos_parte2.ipynb\" target=\"_parent\"><img src=\"https://colab.research.google.com/assets/colab-badge.svg\" alt=\"Open In Colab\"/></a>"
      ]
    },
    {
      "cell_type": "markdown",
      "source": [
        "<img src=\"https://www.ctic.uni.edu.pe/wp-content/uploads/2022/04/588px-x-348px-web-1.png\" alt=\"HTML5 Icon\" width=\"900\" height=\"350\" >\n"
      ],
      "metadata": {
        "id": "0xv6Piu7tRkP"
      }
    },
    {
      "cell_type": "markdown",
      "source": [
        "<h1 align=center><font size = 5>ESTRUCTURAS DE DATOS - PARTE 2\n",
        "</font></h1>\n",
        "\n",
        "---\n"
      ],
      "metadata": {
        "id": "iJvpwSTptUZI"
      }
    },
    {
      "cell_type": "markdown",
      "source": [
        "**Tabla de Contenidos**\n",
        "\n",
        "- Diccionarios\n",
        "- Sets\n",
        "- Matrices\n",
        "\n",
        "---"
      ],
      "metadata": {
        "id": "gM88wvb0uEt7"
      }
    },
    {
      "cell_type": "markdown",
      "source": [
        "## 1. Diccionarios\n",
        "\n",
        "**Concepto:**\n",
        "\n",
        "Un diccionario es una estructura de datos que almacena pares clave-valor. Las claves deben ser únicas y se utilizan para acceder a los valores asociados."
      ],
      "metadata": {
        "id": "P3deKEL-tbDJ"
      }
    },
    {
      "cell_type": "markdown",
      "source": [
        "### Ejemplo 1.1: Creación de Diccionarios y Acceso a Elementos\n"
      ],
      "metadata": {
        "id": "hlZnLeo_uPwN"
      }
    },
    {
      "cell_type": "code",
      "source": [
        "# Crear un diccionario\n",
        "persona = {'nombre': 'Ana', 'edad': 30, 'ciudad': 'Lima'}\n",
        "print(persona)"
      ],
      "metadata": {
        "id": "P-TTXZxuuRe7",
        "colab": {
          "base_uri": "https://localhost:8080/"
        },
        "outputId": "4d082316-4338-43ef-fff6-5829868f6753"
      },
      "execution_count": 1,
      "outputs": [
        {
          "output_type": "stream",
          "name": "stdout",
          "text": [
            "{'nombre': 'Ana', 'edad': 30, 'ciudad': 'Lima'}\n"
          ]
        }
      ]
    },
    {
      "cell_type": "code",
      "source": [
        "# Acceder a un valor\n",
        "print(\"Nombre:\", persona['nombre'])\n",
        "print(\"Ciudad:\", persona.get('ciudad'))\n"
      ],
      "metadata": {
        "id": "tPRrAukRuS1S"
      },
      "execution_count": null,
      "outputs": []
    },
    {
      "cell_type": "code",
      "source": [
        "\n",
        "# Añadir un nuevo par clave-valor\n",
        "persona['profesion'] = 'Ingeniera'\n",
        "print(persona)\n",
        "\n"
      ],
      "metadata": {
        "id": "Ineeezk6uUjd"
      },
      "execution_count": null,
      "outputs": []
    },
    {
      "cell_type": "code",
      "source": [
        "# Eliminar un par clave-valor\n",
        "del persona['ciudad']\n",
        "print(persona)"
      ],
      "metadata": {
        "id": "tuA4FSZNuVv1"
      },
      "execution_count": null,
      "outputs": []
    },
    {
      "cell_type": "markdown",
      "source": [
        "En clase"
      ],
      "metadata": {
        "id": "iEEKIFq4TDSi"
      }
    },
    {
      "cell_type": "code",
      "source": [
        "list(persona)\n",
        "print(persona)"
      ],
      "metadata": {
        "id": "QWicsNuyP6oF",
        "outputId": "9eba8e01-136a-4069-9d77-6f4128184118",
        "colab": {
          "base_uri": "https://localhost:8080/"
        }
      },
      "execution_count": 7,
      "outputs": [
        {
          "output_type": "stream",
          "name": "stdout",
          "text": [
            "{'nombre': 'Ana', 'edad': 30, 'ciudad': 'Lima'}\n"
          ]
        }
      ]
    },
    {
      "cell_type": "code",
      "source": [
        "my_list = []\n",
        "for item in persona.keys():\n",
        "  my_list.append(item)\n",
        "  my_list.append(persona[item])\n",
        "\n",
        "print(my_list)"
      ],
      "metadata": {
        "id": "pENOWij9SNu-",
        "outputId": "babf621a-ebe1-4af9-c1be-9d6d3a9b9412",
        "colab": {
          "base_uri": "https://localhost:8080/"
        }
      },
      "execution_count": 6,
      "outputs": [
        {
          "output_type": "stream",
          "name": "stdout",
          "text": [
            "['nombre', 'Ana', 'edad', 30, 'ciudad', 'Lima']\n"
          ]
        }
      ]
    },
    {
      "cell_type": "code",
      "source": [
        "my_list = []\n",
        "for item in persona.items():\n",
        "  my_list += list(item)\n",
        "print(my_list)"
      ],
      "metadata": {
        "id": "8vBxhhdyR6XC",
        "outputId": "830c8545-c147-455b-b334-d44167729569",
        "colab": {
          "base_uri": "https://localhost:8080/"
        }
      },
      "execution_count": 4,
      "outputs": [
        {
          "output_type": "stream",
          "name": "stdout",
          "text": [
            "['nombre', 'Ana', 'edad', 30, 'ciudad', 'Lima']\n"
          ]
        }
      ]
    },
    {
      "cell_type": "code",
      "source": [
        "my_list = []\n",
        "[[my_list.append(x), my_list.append(y)] for (x, y) in persona.items()]\n",
        "my_list"
      ],
      "metadata": {
        "id": "hiQ7x4iaSjvN",
        "outputId": "23ba11c6-66f6-46df-ca0b-f2902bec7627",
        "colab": {
          "base_uri": "https://localhost:8080/"
        }
      },
      "execution_count": 9,
      "outputs": [
        {
          "output_type": "execute_result",
          "data": {
            "text/plain": [
              "['nombre', 'Ana', 'edad', 30, 'ciudad', 'Lima']"
            ]
          },
          "metadata": {},
          "execution_count": 9
        }
      ]
    },
    {
      "cell_type": "code",
      "source": [
        "my_list = [x, y for x, y in persona.items()]n   #seguir intententando\n",
        "my_list"
      ],
      "metadata": {
        "id": "B3ukzZkOTmdC",
        "outputId": "125662c4-273c-428f-a7c4-339cb04fc729",
        "colab": {
          "base_uri": "https://localhost:8080/",
          "height": 106
        }
      },
      "execution_count": 16,
      "outputs": [
        {
          "output_type": "error",
          "ename": "SyntaxError",
          "evalue": "did you forget parentheses around the comprehension target? (<ipython-input-16-c6af5fb0252a>, line 1)",
          "traceback": [
            "\u001b[0;36m  File \u001b[0;32m\"<ipython-input-16-c6af5fb0252a>\"\u001b[0;36m, line \u001b[0;32m1\u001b[0m\n\u001b[0;31m    my_list = [x, y for x, y in persona.items()]\u001b[0m\n\u001b[0m               ^\u001b[0m\n\u001b[0;31mSyntaxError\u001b[0m\u001b[0;31m:\u001b[0m did you forget parentheses around the comprehension target?\n"
          ]
        }
      ]
    },
    {
      "cell_type": "markdown",
      "source": [
        "### Ejemplo 1.2: Métodos Útiles de Diccionarios\n"
      ],
      "metadata": {
        "id": "FiQWLZxXuY6G"
      }
    },
    {
      "cell_type": "code",
      "source": [
        "# Obtener todas las claves\n",
        "print(persona.keys())\n"
      ],
      "metadata": {
        "id": "0BNmkeBXua1R"
      },
      "execution_count": null,
      "outputs": []
    },
    {
      "cell_type": "code",
      "source": [
        "# Obtener todos los valores\n",
        "print(persona.values())\n"
      ],
      "metadata": {
        "id": "67-6NfYiubwM"
      },
      "execution_count": null,
      "outputs": []
    },
    {
      "cell_type": "code",
      "source": [
        "# Comprobar si una clave existe en el diccionario\n",
        "if 'edad' in persona:\n",
        "    print(\"La clave 'edad' está en el diccionario.\")\n"
      ],
      "metadata": {
        "id": "UPfEsSI_ucnd"
      },
      "execution_count": null,
      "outputs": []
    },
    {
      "cell_type": "markdown",
      "source": [
        "### Ejercicio 1: Trabajando con Diccionarios\n",
        "\n",
        "- Crea un diccionario que contenga información sobre un automóvil (marca, modelo, año, color).\n",
        "- Accede a cada valor usando su clave.\n",
        "- Añade una clave para el precio del automóvil.\n",
        "- Elimina la clave del color del automóvil y muestra el diccionario actualizado.\n",
        "- Usa keys() y values() para imprimir las claves y valores del diccionario.\n",
        "\n"
      ],
      "metadata": {
        "id": "oECCq-N5uguf"
      }
    },
    {
      "cell_type": "code",
      "source": [
        "#1\n",
        "automovil = {'marca': 'Toyota', 'modelo': 'Corolla', 'año': 2022, 'color': 'Rojo'}\n",
        "\n",
        "#2\n",
        "print(\"Marca:\", automovil['marca'])\n",
        "print(\"Modelo:\", automovil['modelo'])\n",
        "print(\"Año:\", automovil['año'])\n",
        "print(\"Color:\", automovil['color'])\n",
        "\n",
        "#3\n",
        "automovil['precio'] = 30000\n",
        "\n",
        "#4\n",
        "del automovil['color']\n",
        "\n",
        "#5\n",
        "print(automovil.keys())\n",
        "print(automovil.values())"
      ],
      "metadata": {
        "id": "x2uN2fYnume5",
        "colab": {
          "base_uri": "https://localhost:8080/"
        },
        "outputId": "20223ef3-e334-450f-b5d6-48247e849f5b"
      },
      "execution_count": 22,
      "outputs": [
        {
          "output_type": "stream",
          "name": "stdout",
          "text": [
            "Marca: Toyota\n",
            "Modelo: Corolla\n",
            "Año: 2022\n",
            "Color: Rojo\n",
            "dict_keys(['marca', 'modelo', 'año', 'precio'])\n",
            "dict_values(['Toyota', 'Corolla', 2022, 30000])\n"
          ]
        }
      ]
    },
    {
      "cell_type": "markdown",
      "source": [
        "## 2. Sets\n",
        "\n",
        "Los sets son colecciones de elementos únicos y desordenados. Son útiles para eliminar duplicados o realizar operaciones matemáticas como intersección y unión."
      ],
      "metadata": {
        "id": "-omdmjTguoW-"
      }
    },
    {
      "cell_type": "markdown",
      "source": [
        "### Ejemplo 2.1: Creación y Modificación de Sets"
      ],
      "metadata": {
        "id": "5GC8_tPvuu3r"
      }
    },
    {
      "cell_type": "code",
      "source": [
        "# Crear un set\n",
        "numeros = {1, 2, 3, 4, 5}\n",
        "print(numeros)\n"
      ],
      "metadata": {
        "id": "D2ClA0CAutom"
      },
      "execution_count": null,
      "outputs": []
    },
    {
      "cell_type": "code",
      "source": [
        "# Añadir elementos\n",
        "numeros.add(6)\n",
        "print(numeros)\n"
      ],
      "metadata": {
        "id": "deMM35okuyPM"
      },
      "execution_count": null,
      "outputs": []
    },
    {
      "cell_type": "code",
      "source": [
        "# Eliminar un elemento\n",
        "numeros.remove(3)\n",
        "print(numeros)\n"
      ],
      "metadata": {
        "id": "VQjmgrWyuzAr"
      },
      "execution_count": null,
      "outputs": []
    },
    {
      "cell_type": "markdown",
      "source": [
        "### Ejemplo 2.2: Operaciones de Conjuntos\n"
      ],
      "metadata": {
        "id": "8I9pqkBWu3qE"
      }
    },
    {
      "cell_type": "code",
      "source": [
        "# Crear otro set\n",
        "otro_set = {4, 5, 6, 7}"
      ],
      "metadata": {
        "id": "169QsOxuvAbe"
      },
      "execution_count": null,
      "outputs": []
    },
    {
      "cell_type": "code",
      "source": [
        "# Unión de sets (todos los elementos)\n",
        "union = numeros.union(otro_set)\n",
        "print(\"Unión:\", union)\n"
      ],
      "metadata": {
        "id": "1hvqQ2F_vBtY"
      },
      "execution_count": null,
      "outputs": []
    },
    {
      "cell_type": "code",
      "source": [
        "# Intersección de sets (elementos comunes)\n",
        "interseccion = numeros.intersection(otro_set)\n",
        "print(\"Intersección:\", interseccion)\n"
      ],
      "metadata": {
        "id": "0AU3PFc1vCh2"
      },
      "execution_count": null,
      "outputs": []
    },
    {
      "cell_type": "markdown",
      "source": [
        "### Ejercicio 2: Operaciones con Sets\n",
        "\n",
        "- Crea dos sets de números: uno con números del 1 al 10 y otro con números del 5 al 15.\n",
        "- Encuentra la intersección y unión de ambos sets.\n",
        "- Elimina un número del primer set.\n",
        "- Usa un set para almacenar los nombres de tus amigos. Asegúrate de que no haya duplicados."
      ],
      "metadata": {
        "id": "y15kQNAQvFx_"
      }
    },
    {
      "cell_type": "code",
      "source": [],
      "metadata": {
        "id": "CqudC_sBvJEQ"
      },
      "execution_count": null,
      "outputs": []
    },
    {
      "cell_type": "markdown",
      "source": [
        "## 3. Matrices\n",
        "\n",
        "En Python, las matrices pueden representarse como listas de listas. Para manipular matrices más avanzadas y realizar cálculos eficientes, utilizamos la librería NumPy."
      ],
      "metadata": {
        "id": "Pg3-dd-KvK9D"
      }
    },
    {
      "cell_type": "markdown",
      "source": [
        "### Ejemplo 3.1: Matrices con Listas de Listas\n"
      ],
      "metadata": {
        "id": "X7qGslkLvNya"
      }
    },
    {
      "cell_type": "code",
      "source": [
        "# Crear una matriz 3x3 con listas anidadas\n",
        "matriz = [\n",
        "    [1, 2, 3],\n",
        "    [4, 5, 6],\n",
        "    [7, 8, 9]\n",
        "]\n",
        "print(matriz)\n"
      ],
      "metadata": {
        "id": "TK57Y4GUvQ3Z"
      },
      "execution_count": null,
      "outputs": []
    },
    {
      "cell_type": "code",
      "source": [
        "# Acceder a elementos de la matriz\n",
        "print(\"Elemento en [1][1]:\", matriz[1][1])\n"
      ],
      "metadata": {
        "id": "D0MpaT6xvSH6"
      },
      "execution_count": null,
      "outputs": []
    },
    {
      "cell_type": "code",
      "source": [
        "# Modificar un elemento\n",
        "matriz[2][0] = 10\n",
        "print(matriz)"
      ],
      "metadata": {
        "id": "02wHfdwMvUB_"
      },
      "execution_count": null,
      "outputs": []
    },
    {
      "cell_type": "markdown",
      "source": [
        "### Ejemplo 3.2: Manipulación de Matrices con NumPy\n"
      ],
      "metadata": {
        "id": "3cCGTHmTvXXy"
      }
    },
    {
      "cell_type": "code",
      "source": [
        "import numpy as np\n",
        "\n",
        "# Crear una matriz 3x3 con NumPy\n",
        "matriz_np = np.array([\n",
        "    [1, 2, 3],\n",
        "    [4, 5, 6],\n",
        "    [7, 8, 9]\n",
        "])\n",
        "print(matriz_np)\n",
        "\n",
        "\n"
      ],
      "metadata": {
        "id": "FZytH_LBvZrP"
      },
      "execution_count": null,
      "outputs": []
    },
    {
      "cell_type": "code",
      "source": [
        "# Sumar 10 a cada elemento\n",
        "print(matriz_np + 10)\n",
        "\n"
      ],
      "metadata": {
        "id": "n2yT2V3tvbEE"
      },
      "execution_count": null,
      "outputs": []
    },
    {
      "cell_type": "code",
      "source": [
        "# Multiplicar cada elemento por 2\n",
        "print(matriz_np * 2)"
      ],
      "metadata": {
        "id": "RS-Cqk3rvb7k"
      },
      "execution_count": null,
      "outputs": []
    },
    {
      "cell_type": "markdown",
      "source": [
        "### Ejercicio 3: Operaciones con Matrices\n",
        "\n",
        "- Crea una matriz 3x3 usando listas de listas.\n",
        "- Modifica un valor de la matriz y muestra la matriz actualizada.\n",
        "- Usa NumPy para crear una matriz 4x4 con números aleatorios enteros.\n",
        "- Realiza una operación de suma con la matriz (suma 5 a cada elemento).\n",
        "- Multiplica los elementos de la matriz por 2 usando NumPy."
      ],
      "metadata": {
        "id": "lR6HCR3DveEn"
      }
    },
    {
      "cell_type": "code",
      "source": [],
      "metadata": {
        "id": "7RMRCaRPvh1s"
      },
      "execution_count": null,
      "outputs": []
    },
    {
      "cell_type": "markdown",
      "source": [
        "## 4. Desafío\n",
        "\n",
        "\n",
        "Eres el encargado de un almacén de productos electrónicos. Tienes un registro de ventas semanales para teléfonos, laptops y tabletas. Necesitas analizar las ventas para mejorar la gestión.\n",
        "\n",
        "- Crea tres listas: una para teléfonos, otra para laptops y otra para tabletas con las ventas de cada día durante una semana.\n",
        "- Usa slicing para obtener las ventas de los últimos 3 días de cada producto.\n",
        "- Usa listas por comprensión para calcular el total de ventas de cada producto y el promedio de ventas diarias.\n",
        "- Clasifica los productos en \"ventas altas\" o \"ventas bajas\" según si el promedio de ventas es mayor o menor a 5.\n",
        "\n",
        "Instrucciones:\n",
        "Usa sum() y len() para calcular el total de ventas y el promedio.\n",
        "Clasifica las ventas usando listas por comprensión."
      ],
      "metadata": {
        "id": "ROqSXb4Avk_T"
      }
    },
    {
      "cell_type": "code",
      "source": [],
      "metadata": {
        "id": "93wXCVCZv4TT"
      },
      "execution_count": null,
      "outputs": []
    },
    {
      "cell_type": "markdown",
      "source": [
        "---\n",
        "\n",
        "# Gracias por completar este laboratorio!\n",
        "\n",
        "---"
      ],
      "metadata": {
        "id": "qUpDNm7iv-Vh"
      }
    }
  ]
}