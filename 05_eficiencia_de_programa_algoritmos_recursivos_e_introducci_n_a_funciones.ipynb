{
  "nbformat": 4,
  "nbformat_minor": 0,
  "metadata": {
    "colab": {
      "provenance": [],
      "include_colab_link": true
    },
    "kernelspec": {
      "name": "python3",
      "display_name": "Python 3"
    },
    "language_info": {
      "name": "python"
    }
  },
  "cells": [
    {
      "cell_type": "markdown",
      "metadata": {
        "id": "view-in-github",
        "colab_type": "text"
      },
      "source": [
        "<a href=\"https://colab.research.google.com/github/JPalaciosCh/ciclo_1_Programacion_101/blob/main/05_eficiencia_de_programa_algoritmos_recursivos_e_introducci_n_a_funciones.ipynb\" target=\"_parent\"><img src=\"https://colab.research.google.com/assets/colab-badge.svg\" alt=\"Open In Colab\"/></a>"
      ]
    },
    {
      "cell_type": "markdown",
      "source": [
        "<img src=\"https://www.ctic.uni.edu.pe/wp-content/uploads/2022/04/588px-x-348px-web-1.png\" alt=\"HTML5 Icon\" width=\"900\" height=\"350\" >\n"
      ],
      "metadata": {
        "id": "kpRjEjfp-AbE"
      }
    },
    {
      "cell_type": "markdown",
      "source": [
        "# Eficiencia del Programa, Algoritmos Recursivos e Introducción a Funciones"
      ],
      "metadata": {
        "id": "D7AkNgnu97O2"
      }
    },
    {
      "cell_type": "markdown",
      "source": [
        "## Objetivo:\n",
        "\n",
        "Este laboratorio está diseñado para que los estudiantes comprendan el uso de funciones en Python, cómo medir la eficiencia de un programa y cómo implementar y optimizar algoritmos recursivos."
      ],
      "metadata": {
        "id": "5O1ZbxoL-EAB"
      }
    },
    {
      "cell_type": "markdown",
      "source": [
        "---\n",
        "\n",
        "## 1. Introducción a Funciones\n",
        "\n",
        "### 1.1 Concepto de Funciones\n",
        "Una función es un bloque de código reutilizable que realiza una tarea específica. Las funciones permiten modularizar el código, haciéndolo más limpio, legible y reutilizable. Además, las funciones facilitan la recursión, que es clave en muchos algoritmos eficientes.\n",
        "\n"
      ],
      "metadata": {
        "id": "ETPiaVoC-IYp"
      }
    },
    {
      "cell_type": "code",
      "source": [
        "def saludar():\n",
        "  print(\"¡Hola, mundo!\")\n",
        "\n",
        "saludar()  # Llamada a la función"
      ],
      "metadata": {
        "id": "OiFjZHAbIlMJ",
        "outputId": "f82121cd-1e1e-4be4-82fd-38e94fc8ad7b",
        "colab": {
          "base_uri": "https://localhost:8080/"
        }
      },
      "execution_count": 4,
      "outputs": [
        {
          "output_type": "stream",
          "name": "stdout",
          "text": [
            "¡Hola, mundo!\n"
          ]
        }
      ]
    },
    {
      "cell_type": "markdown",
      "source": [
        "**Sintaxis de una Función en Python:**"
      ],
      "metadata": {
        "id": "gLWVPCax-Noz"
      }
    },
    {
      "cell_type": "code",
      "execution_count": 9,
      "metadata": {
        "id": "Ungfjy3J96ax"
      },
      "outputs": [],
      "source": [
        "def nombre_funcion(argumentos):\n",
        "    # Cuerpo de la función\n",
        "    return resultado\n"
      ]
    },
    {
      "cell_type": "code",
      "source": [
        "#muestra la informacion de la funcion\n",
        "saludar?"
      ],
      "metadata": {
        "id": "9955hEigKAJk"
      },
      "execution_count": 8,
      "outputs": []
    },
    {
      "cell_type": "code",
      "source": [
        "#muestra la informacion de la funcion\n",
        "nombre_funcion?"
      ],
      "metadata": {
        "id": "Utl17AfLKZBj"
      },
      "execution_count": 10,
      "outputs": []
    },
    {
      "cell_type": "code",
      "source": [
        "#muestra la informacion de la funcion\n",
        "def vector_norm(vector: list) -> float:\n",
        "    Y = [x**2 for x in vector]\n",
        "    return (sum(Y)**0.5)"
      ],
      "metadata": {
        "id": "V0BWwo2nK97z"
      },
      "execution_count": 20,
      "outputs": []
    },
    {
      "cell_type": "code",
      "source": [
        "vector = [4,5,2,1,0,10]\n",
        "vector_norm(vector)"
      ],
      "metadata": {
        "id": "pRONBDsQLZbv",
        "outputId": "16505b46-8b04-49f2-b034-4df7858c17a9",
        "colab": {
          "base_uri": "https://localhost:8080/"
        }
      },
      "execution_count": 23,
      "outputs": [
        {
          "output_type": "execute_result",
          "data": {
            "text/plain": [
              "12.083045973594572"
            ]
          },
          "metadata": {},
          "execution_count": 23
        }
      ]
    },
    {
      "cell_type": "markdown",
      "source": [
        "**Ejemplo de Función Básica:**"
      ],
      "metadata": {
        "id": "TVQjuxJa-RAn"
      }
    },
    {
      "cell_type": "code",
      "source": [
        "def saludar(nombre):\n",
        "    return f\"Hola, {nombre}!\"\n",
        "\n",
        "print(saludar(\"Juan\"))  # Llamada a la función\n"
      ],
      "metadata": {
        "id": "JVbSyQPt-TVn"
      },
      "execution_count": null,
      "outputs": []
    },
    {
      "cell_type": "markdown",
      "source": [
        "**Ejercicio 1**\n",
        "Escriba un función que tenga como input dos números (N y n). El resultado de la función debe ser la cantidad de multiplos de n menores que N."
      ],
      "metadata": {
        "id": "9CYcj6Y0PG4k"
      }
    },
    {
      "cell_type": "code",
      "source": [
        "def multiplos(N:int, n:int)-> int:\n",
        "  # Evalua los numero N y n para hallar la cantidad de multiplos de n menores que N\n",
        "  return N//n"
      ],
      "metadata": {
        "id": "dGzylDU4PnA4"
      },
      "execution_count": 24,
      "outputs": []
    },
    {
      "cell_type": "code",
      "source": [
        "N = 14\n",
        "n = 3\n",
        "multiplos(N,n)"
      ],
      "metadata": {
        "id": "-feOMGS3PJtH",
        "outputId": "458ba9c6-72ad-4748-d753-cf257eaad9d3",
        "colab": {
          "base_uri": "https://localhost:8080/"
        }
      },
      "execution_count": 28,
      "outputs": [
        {
          "output_type": "execute_result",
          "data": {
            "text/plain": [
              "4"
            ]
          },
          "metadata": {},
          "execution_count": 28
        }
      ]
    },
    {
      "cell_type": "markdown",
      "source": [
        "**Ejercicio 2** Sobre la función anterior, agregue un control para validar que N > n, de no ser asi imprima un mensaje de que los números no son validos."
      ],
      "metadata": {
        "id": "2CHphbAMQBS_"
      }
    },
    {
      "cell_type": "code",
      "source": [
        "def multiplos_2(N:int, n:int)-> int:\n",
        "  # Evalua los numero N y n para hallar la cantidad de multiplos de n menores que N\n",
        "  # Asimismo validad que el Valor de N sea mayor a n.\n",
        "  if n>N:\n",
        "    return(print(\"Los numeros no son validos\")) # Imprime que los numeros no son validos dado que n>N\n",
        "  else:\n",
        "    return N//n"
      ],
      "metadata": {
        "id": "cgwcr6ddP922"
      },
      "execution_count": 36,
      "outputs": []
    },
    {
      "cell_type": "code",
      "source": [
        "N = 75\n",
        "n = 15\n",
        "multiplos_2(N,n)"
      ],
      "metadata": {
        "id": "Sspxw_AUSQCx",
        "outputId": "ca72b907-a68b-4c6a-ed7e-b01351ceaf89",
        "colab": {
          "base_uri": "https://localhost:8080/"
        }
      },
      "execution_count": 39,
      "outputs": [
        {
          "output_type": "execute_result",
          "data": {
            "text/plain": [
              "5"
            ]
          },
          "metadata": {},
          "execution_count": 39
        }
      ]
    },
    {
      "cell_type": "code",
      "source": [
        "multiplos = [x for x in range(0,N) if x%n == 0]\n",
        "multiplos"
      ],
      "metadata": {
        "id": "jMzvHbaxTC4u",
        "outputId": "e3f45431-c3dd-485c-cba5-131d9daf70be",
        "colab": {
          "base_uri": "https://localhost:8080/"
        }
      },
      "execution_count": 43,
      "outputs": [
        {
          "output_type": "execute_result",
          "data": {
            "text/plain": [
              "[0, 15, 30, 45, 60]"
            ]
          },
          "metadata": {},
          "execution_count": 43
        }
      ]
    },
    {
      "cell_type": "markdown",
      "source": [
        "**Ejercicio 2**\n",
        "Ahora, que la función devuelva 2 outputs, el primero que sea la la cantidad de multiplos  y el segundo, la lista de multiplos. Finalmente imprime un mensaje luego de usar la funcion que indique la cantidad de multiplos y los multiplos"
      ],
      "metadata": {
        "id": "tLJt6PybUV5-"
      }
    },
    {
      "cell_type": "code",
      "source": [
        "def multiplos_3(N:int, n:int):\n",
        "  # Evalua los numero N y n para hallar la cantidad de multiplos de n menores que N\n",
        "  # Asimismo validad que el Valor de N sea mayor a n.\n",
        "  # Finalmente indica la cantidad de mulitplos y la lista de multiplos\n",
        "  if n>N:\n",
        "    return(print(\"Los numeros no son validos\")) # Imprime que los numeros no son validos dado que n>N\n",
        "  else:\n",
        "    print(f\"La cantidad de multiplos es {N//n}\") # Imprime la cantidad de multiplos\n",
        "    print(f\"Los multiplos son: {[x for x in range(0,N) if x%n == 0]}\") # Imprime los multiplos"
      ],
      "metadata": {
        "id": "QzhA2oNNUoQN"
      },
      "execution_count": 51,
      "outputs": []
    },
    {
      "cell_type": "code",
      "source": [
        "N = 75\n",
        "n = 15\n",
        "multiplos_3(N,n)"
      ],
      "metadata": {
        "id": "UDol8Xn0VIj7",
        "outputId": "2a05a5a5-691f-474d-ba13-bc1169aa9546",
        "colab": {
          "base_uri": "https://localhost:8080/"
        }
      },
      "execution_count": 52,
      "outputs": [
        {
          "output_type": "stream",
          "name": "stdout",
          "text": [
            "La cantidad de multiplos es 5\n",
            "Los multiplos son: [0, 15, 30, 45, 60]\n"
          ]
        }
      ]
    },
    {
      "cell_type": "markdown",
      "source": [
        "### 1.2 Parámetros y Argumentos\n",
        "\n",
        "Una función puede recibir uno o más parámetros, que son valores que se pasan a la función cuando se la llama."
      ],
      "metadata": {
        "id": "xX0osRfN-VPm"
      }
    },
    {
      "cell_type": "markdown",
      "source": [
        "**Ejemplo:**"
      ],
      "metadata": {
        "id": "ekfgA4m1-cOQ"
      }
    },
    {
      "cell_type": "code",
      "source": [
        "def sumar(a, b):\n",
        "    return a + b\n",
        "\n",
        "resultado = sumar(3, 5)  # Llamada a la función\n",
        "print(resultado)  # Imprime 8"
      ],
      "metadata": {
        "id": "MDCKsn5N-Zhm"
      },
      "execution_count": null,
      "outputs": []
    },
    {
      "cell_type": "markdown",
      "source": [
        "**Ejercicio 1.1:**\n",
        "\n",
        "Escribe una función multiplicar(a, b) que reciba dos números y devuelva su producto.\n",
        "Crea una función llamada es_par(numero) que reciba un número y devuelva True si es par, o False si es impar.\n"
      ],
      "metadata": {
        "id": "sGEbWZUd-ga2"
      }
    },
    {
      "cell_type": "markdown",
      "source": [
        "### 1.3 Funciones con Valor por Defecto\n",
        "\n",
        "Las funciones pueden tener parámetros con valores por defecto, lo que permite llamarlas sin especificar todos los argumentos.\n",
        "\n",
        "**Ejemplo:**"
      ],
      "metadata": {
        "id": "HM9VnIyQ-l6v"
      }
    },
    {
      "cell_type": "code",
      "source": [
        "def saludar(nombre=\"desconocido\"):\n",
        "    return f\"Hola, {nombre}!\"\n",
        "\n",
        "print(saludar())  # Llama a la función sin argumento\n",
        "print(saludar(\"Ana\"))  # Llama a la función con argumento\n"
      ],
      "metadata": {
        "id": "DIviXyc4-qkO"
      },
      "execution_count": null,
      "outputs": []
    },
    {
      "cell_type": "markdown",
      "source": [
        "**Ejercicio 1.2:**\n",
        "\n",
        "Crea una función llamada area_rectangulo(base, altura=10) que devuelva el área de un rectángulo. Si no se proporciona la altura, que sea 10 por defecto."
      ],
      "metadata": {
        "id": "i3oUVUjb-sLs"
      }
    },
    {
      "cell_type": "markdown",
      "source": [
        "## 2. Eficiencia del Programa\n",
        "\n",
        "### 2.1 Notación Big-O y Complejidad Temporal"
      ],
      "metadata": {
        "id": "RCWfJOTU-vnM"
      }
    },
    {
      "cell_type": "markdown",
      "source": [
        "Las funciones permiten organizar algoritmos que se pueden medir en términos de su eficiencia temporal usando la notación Big-O."
      ],
      "metadata": {
        "id": "mFrUJ4ii-0Pi"
      }
    },
    {
      "cell_type": "markdown",
      "source": [
        "**Ejemplo de Búsqueda Lineal (O(n)):**\n"
      ],
      "metadata": {
        "id": "h-Ls7mOc-2RP"
      }
    },
    {
      "cell_type": "code",
      "source": [
        "def busqueda_lineal(lista, objetivo):\n",
        "    for i in range(len(lista)):\n",
        "        if lista[i] == objetivo:\n",
        "            return i\n",
        "    return -1\n"
      ],
      "metadata": {
        "id": "0U58KQyE-zyO"
      },
      "execution_count": null,
      "outputs": []
    },
    {
      "cell_type": "markdown",
      "source": [
        "**Ejercicio 2.1:**\n",
        "\n",
        "Implementa una función busqueda_binaria(lista, objetivo) y compara su tiempo de ejecución con busqueda_lineal()."
      ],
      "metadata": {
        "id": "JUzVij-R-7eY"
      }
    },
    {
      "cell_type": "markdown",
      "source": [
        "### 2.2 Complejidad Espacial\n"
      ],
      "metadata": {
        "id": "OfTzR_US-_sT"
      }
    },
    {
      "cell_type": "markdown",
      "source": [
        "Además de la complejidad temporal, es importante considerar la complejidad espacial, que mide la cantidad de memoria usada por el algoritmo."
      ],
      "metadata": {
        "id": "AogQdwdu_D-A"
      }
    },
    {
      "cell_type": "markdown",
      "source": [
        "**Ejemplo de Ordenamiento Burbuja (O(n^2)):**"
      ],
      "metadata": {
        "id": "cIqCFTtu_Fdq"
      }
    },
    {
      "cell_type": "code",
      "source": [
        "def burbuja(arr):\n",
        "    n = len(arr)\n",
        "    for i in range(n):\n",
        "        for j in range(0, n-i-1):\n",
        "            if arr[j] > arr[j+1]:\n",
        "                arr[j], arr[j+1] = arr[j+1], arr[j]\n"
      ],
      "metadata": {
        "id": "Bh5QDIyK-7Oz"
      },
      "execution_count": null,
      "outputs": []
    },
    {
      "cell_type": "markdown",
      "source": [
        "**Ejercicio 2.2:**\n",
        "\n",
        "Implementa burbuja() y merge_sort() en dos funciones diferentes. Evalúa su tiempo de ejecución en listas de diferentes tamaños (1,000, 10,000, 100,000)."
      ],
      "metadata": {
        "id": "Rn-Oeaq6_J20"
      }
    },
    {
      "cell_type": "markdown",
      "source": [
        "## 3. Algoritmos Recursivos\n"
      ],
      "metadata": {
        "id": "DXMHJoAc_O6_"
      }
    },
    {
      "cell_type": "markdown",
      "source": [
        "## 3.1 Concepto de Recursión\n",
        "\n",
        "Una función es recursiva si se llama a sí misma hasta llegar a un caso base, lo que permite descomponer problemas grandes en problemas más pequeños.\n",
        "\n"
      ],
      "metadata": {
        "id": "Dnh1aLGF_Rjg"
      }
    },
    {
      "cell_type": "markdown",
      "source": [
        "**Ejemplo de Factorial Recursivo:**\n"
      ],
      "metadata": {
        "id": "38QkdcUI_U3v"
      }
    },
    {
      "cell_type": "code",
      "source": [
        "def factorial(n):\n",
        "    if n == 0:\n",
        "        return 1\n",
        "    return n * factorial(n - 1)\n"
      ],
      "metadata": {
        "id": "aFC9uAYc_XEt"
      },
      "execution_count": null,
      "outputs": []
    },
    {
      "cell_type": "markdown",
      "source": [
        "**Ejercicio 3.1:**\n",
        "\n",
        "Escribe una función recursiva para calcular la serie de Fibonacci.\n",
        "Crea una versión iterativa del mismo problema y compara el tiempo de ejecución."
      ],
      "metadata": {
        "id": "dxSbvX6A_Y3m"
      }
    },
    {
      "cell_type": "markdown",
      "source": [
        "### 3.2 Recursión y Funciones de Orden Superior\n",
        "\n",
        "Las funciones de orden superior son funciones que reciben otras funciones como argumentos, lo que puede ser útil para ciertos problemas recursivos.\n",
        "\n",
        "\n",
        "**Ejemplo de Función Recursiva para Encontrar el Máximo:**"
      ],
      "metadata": {
        "id": "jk-5HuAq_czK"
      }
    },
    {
      "cell_type": "code",
      "source": [
        "def maximo(lista):\n",
        "    if len(lista) == 1:\n",
        "        return lista[0]\n",
        "    else:\n",
        "        max_restante = maximo(lista[1:])\n",
        "        return lista[0] if lista[0] > max_restante else max_restante\n"
      ],
      "metadata": {
        "id": "UqX1ENO8_hlw"
      },
      "execution_count": null,
      "outputs": []
    },
    {
      "cell_type": "markdown",
      "source": [
        "**Ejercicio 3.2:**\n",
        "\n",
        "Implementa una función recursiva para encontrar el mínimo de una lista.\n",
        "Crea una función recursiva que invierta una lista de números."
      ],
      "metadata": {
        "id": "V1Bz16aM_jsO"
      }
    },
    {
      "cell_type": "markdown",
      "source": [
        "---"
      ],
      "metadata": {
        "id": "EOW10t2h_omm"
      }
    },
    {
      "cell_type": "markdown",
      "source": [
        "## Conclusión del Laboratorio\n",
        "\n",
        "Este laboratorio proporciona una introducción a funciones, la base para trabajar con algoritmos recursivos y medir la eficiencia de los programas. A lo largo del laboratorio, has creado funciones que realizan tareas clave y evaluado cómo varían en eficiencia en diferentes escenarios."
      ],
      "metadata": {
        "id": "A41jdqaS_mtf"
      }
    },
    {
      "cell_type": "markdown",
      "source": [
        "---\n",
        "\n",
        "# Gracias por completar este laboratorio!\n",
        "\n",
        "---"
      ],
      "metadata": {
        "id": "7TG1VELS_r3t"
      }
    }
  ]
}